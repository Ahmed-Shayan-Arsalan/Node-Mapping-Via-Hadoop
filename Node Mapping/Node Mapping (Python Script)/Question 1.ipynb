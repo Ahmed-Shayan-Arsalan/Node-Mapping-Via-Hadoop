{
 "cells": [
  {
   "cell_type": "markdown",
   "metadata": {},
   "source": [
    "# Assignment # 2\n",
    "\n",
    "Ahmad Shayan\n",
    "Qasim Rizwan\n",
    "Mahrukh Wahidi"
   ]
  },
  {
   "cell_type": "code",
   "execution_count": null,
   "metadata": {},
   "outputs": [],
   "source": [
    "# Loading the given data set \n",
    "# Creating  a dictonary named graph. The code iterates through each row of the data and adds the corresponding edge to the graph dictionary."
   ]
  },
  {
   "cell_type": "code",
   "execution_count": 11,
   "metadata": {
    "id": "EN1qWfADTco5"
   },
   "outputs": [],
   "source": [
    "import numpy as np\n",
    "import pandas as pd\n",
    "import heapq\n",
    "#from google.colab import drive\n",
    "\n",
    "#drive.mount('/drive')\n",
    "\n",
    "# Load the data into a numpy array\n",
    "data = np.loadtxt('soc-LiveJournal1.txt', dtype=int)\n",
    "\n",
    "# Convert the numpy array to a pandas dataframe\n",
    "df = pd.DataFrame({'from': data[:, 0], 'to': data[:, 1]})\n",
    "\n",
    "# Create a graph from the dataframe\n",
    "graph = {}\n",
    "\n",
    "for row in data:\n",
    "    try:\n",
    "        if row[0] in graph:\n",
    "            graph[row[0]].append(row[1])\n",
    "        else:\n",
    "            graph[row[0]] = [row[1]]\n",
    "    except ValueError:\n",
    "        pass\n"
   ]
  },
  {
   "cell_type": "code",
   "execution_count": 12,
   "metadata": {
    "id": "FR2L11CacC5m"
   },
   "outputs": [],
   "source": [
    "# Define the nodes X, Y, and Z\n",
    "X = 2678\n",
    "Y = 1690\n",
    "Z = 1765"
   ]
  },
  {
   "cell_type": "code",
   "execution_count": null,
   "metadata": {},
   "outputs": [],
   "source": [
    "#This function is used to compute the shortest paths from a given node in a graph and returns the cost and path for each of the shortest paths."
   ]
  },
  {
   "cell_type": "code",
   "execution_count": 13,
   "metadata": {
    "id": "Z4fSYD7McIKf"
   },
   "outputs": [],
   "source": [
    "def shortest_paths(node):\n",
    "    heap = [(0, node, [])]\n",
    "    visited = set()\n",
    "    while heap:\n",
    "        (cost, current, path) = heapq.heappop(heap)\n",
    "        if current not in visited:\n",
    "            visited.add(current)\n",
    "            path = path + [current]\n",
    "            if current != node:\n",
    "                yield (current, cost, path)\n",
    "            for neighbor in graph.get(current, []):\n",
    "                if neighbor not in visited:\n",
    "                    next_cost = cost + 1\n",
    "                    heapq.heappush(heap, (next_cost, neighbor, path))"
   ]
  },
  {
   "cell_type": "code",
   "execution_count": 14,
   "metadata": {
    "id": "GVXdYWjYcNlB"
   },
   "outputs": [],
   "source": [
    "x_paths = [(node, cost, path) for node, cost, path in shortest_paths(X)]\n",
    "y_paths = [(node, cost, path) for node, cost, path in shortest_paths(Y)]\n",
    "z_paths = [(node, cost, path) for node, cost, path in shortest_paths(Z)]\n"
   ]
  },
  {
   "cell_type": "code",
   "execution_count": 15,
   "metadata": {
    "id": "ZLJ_82mNcQSw"
   },
   "outputs": [],
   "source": [
    "x_df = pd.DataFrame({'Node': [node for node, _, _ in x_paths], 'X Path': [path for _, _, path in x_paths]})\n",
    "y_df = pd.DataFrame({'Node': [node for node, _, _ in y_paths], 'Y Path': [path for _, _, path in y_paths]})\n",
    "z_df = pd.DataFrame({'Node': [node for node, _, _ in z_paths], 'Z Path': [path for _, _, path in z_paths]})"
   ]
  },
  {
   "cell_type": "code",
   "execution_count": 16,
   "metadata": {
    "colab": {
     "base_uri": "https://localhost:8080/"
    },
    "id": "CBvt7yvncUl_",
    "outputId": "2da77597-da69-4c4f-819e-49ccf0defaa5"
   },
   "outputs": [
    {
     "name": "stdout",
     "output_type": "stream",
     "text": [
      "           Node                                             X Path\n",
      "0          1031                                       [2678, 1031]\n",
      "1          1664                                       [2678, 1664]\n",
      "2          1667                                       [2678, 1667]\n",
      "3          1689                                       [2678, 1689]\n",
      "4          2640                                       [2678, 2640]\n",
      "...         ...                                                ...\n",
      "415152  2631903  [2678, 2689, 2682, 6107, 12951, 12950, 12952, ...\n",
      "415153  2631904  [2678, 2689, 2682, 6107, 12951, 12950, 12952, ...\n",
      "415154  2256325  [2678, 1689, 3931, 2413, 340, 1270, 1290, 1295...\n",
      "415155  2603448  [2678, 1689, 3931, 2413, 340, 1270, 1290, 1295...\n",
      "415156  2603450  [2678, 1689, 3931, 2413, 340, 1270, 1290, 1295...\n",
      "\n",
      "[415157 rows x 2 columns]\n"
     ]
    }
   ],
   "source": [
    "x_df.to_csv('x_paths.csv', index=False)\n",
    "y_df.to_csv('y_paths.csv', index=False)\n",
    "z_df.to_csv('z_paths.csv', index=False)\n",
    "print(x_df)\n"
   ]
  },
  {
   "cell_type": "code",
   "execution_count": 17,
   "metadata": {
    "colab": {
     "base_uri": "https://localhost:8080/"
    },
    "id": "o_6PIqlgcYEK",
    "outputId": "9be6bcb9-3ffe-41ad-a1d1-1310f0406e5e"
   },
   "outputs": [
    {
     "name": "stdout",
     "output_type": "stream",
     "text": [
      "           Node                                             Y Path\n",
      "0          1657                                       [1690, 1657]\n",
      "1          1669                                       [1690, 1669]\n",
      "2          1682                                       [1690, 1682]\n",
      "3          1683                                       [1690, 1683]\n",
      "4        259620                                     [1690, 259620]\n",
      "...         ...                                                ...\n",
      "415152  2631900  [1690, 1657, 1666, 13495, 13426, 13472, 12953,...\n",
      "415153  2631901  [1690, 1657, 1666, 13495, 13426, 13472, 12953,...\n",
      "415154  2631902  [1690, 1657, 1666, 13495, 13426, 13472, 12953,...\n",
      "415155  2631903  [1690, 1657, 1666, 13495, 13426, 13472, 12953,...\n",
      "415156  2631904  [1690, 1657, 1666, 13495, 13426, 13472, 12953,...\n",
      "\n",
      "[415157 rows x 2 columns]\n"
     ]
    }
   ],
   "source": [
    "print(y_df)"
   ]
  },
  {
   "cell_type": "code",
   "execution_count": 18,
   "metadata": {
    "colab": {
     "base_uri": "https://localhost:8080/"
    },
    "id": "9DkklAKaLO_q",
    "outputId": "7cc1ee61-a790-4cae-c289-4685ea54b795"
   },
   "outputs": [
    {
     "name": "stdout",
     "output_type": "stream",
     "text": [
      "           Node                                             Z Path\n",
      "0          1741                                       [1765, 1741]\n",
      "1          1751                                       [1765, 1751]\n",
      "2          1752                                       [1765, 1752]\n",
      "3          1757                                       [1765, 1757]\n",
      "4          1759                                       [1765, 1759]\n",
      "...         ...                                                ...\n",
      "415152  2631903  [1765, 1741, 1754, 2682, 6107, 12951, 12950, 1...\n",
      "415153  2631904  [1765, 1741, 1754, 2682, 6107, 12951, 12950, 1...\n",
      "415154  2256325  [1765, 1741, 1754, 7755, 9154, 3376, 11162, 12...\n",
      "415155  2603448  [1765, 1741, 1754, 7755, 9154, 3376, 11162, 12...\n",
      "415156  2603450  [1765, 1741, 1754, 7755, 9154, 3376, 11162, 12...\n",
      "\n",
      "[415157 rows x 2 columns]\n"
     ]
    }
   ],
   "source": [
    "print(z_df)"
   ]
  },
  {
   "cell_type": "code",
   "execution_count": 18,
   "metadata": {
    "id": "IbWQ2Yc0Qn-e"
   },
   "outputs": [],
   "source": []
  }
 ],
 "metadata": {
  "colab": {
   "provenance": []
  },
  "kernelspec": {
   "display_name": "Python 3 (ipykernel)",
   "language": "python",
   "name": "python3"
  },
  "language_info": {
   "codemirror_mode": {
    "name": "ipython",
    "version": 3
   },
   "file_extension": ".py",
   "mimetype": "text/x-python",
   "name": "python",
   "nbconvert_exporter": "python",
   "pygments_lexer": "ipython3",
   "version": "3.9.13"
  }
 },
 "nbformat": 4,
 "nbformat_minor": 1
}
